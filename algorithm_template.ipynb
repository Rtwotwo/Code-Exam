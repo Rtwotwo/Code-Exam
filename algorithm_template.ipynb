{
 "cells": [
  {
   "cell_type": "markdown",
   "id": "3a40914f",
   "metadata": {},
   "source": [
    "1.回溯算法是一种通过递归来解决问题的算法，它尝试分步构建解决方案，并在发现当前路径无法达到目标时撤销最近的选择（即“回溯”），并尝试其他可能的选择。回溯算法常用于解决组合问题、排列问题、子集问题、搜索问题等。 回溯算法的步骤如下：(1).定义问题：首先，你需要定义问题的要求和限制。问题可以是一个组合问题、排列问题、子集问题、搜索问题等。(2).确定搜索空间：确定问题的搜索空间，即所有可能的选择。(3).定义递归关系：定义递归关系，即如何从当前状态转移到下一个状态。(4).确定终止条件：确定递归的终止条件，即当搜索空间 exhausted 时，算法结束。"
   ]
  },
  {
   "cell_type": "code",
   "execution_count": 4,
   "id": "91b49adb",
   "metadata": {},
   "outputs": [],
   "source": [
    "\"\"\"def backtrack(path, options):\n",
    "    # 结束条件：当满足某个条件时结束递归\n",
    "    if is_a_solution(path):\n",
    "        record_solution(path)\n",
    "        return\n",
    "    # 遍历所有可能的选择\n",
    "    for choice in options:\n",
    "        if is_valid(choice, path):  # 检查选择是否有效\n",
    "            select(choice, path)     # 做出选择\n",
    "            backtrack(path, new_options)  # 递归调用，继续探索\n",
    "            undo(choice, path)       # 撤销选择，进行回溯\"\"\"\n",
    "def permute(nums):\n",
    "    def backtrack(start=0):\n",
    "        # 如果到达数组末尾，说明找到了一种排列\n",
    "        if start == len(nums):\n",
    "            result.append(nums[:])\n",
    "            return\n",
    "        for i in range(start, len(nums)):\n",
    "            # 交换元素以尝试新的排列\n",
    "            nums[start], nums[i] = nums[i], nums[start]\n",
    "            # 递归地为剩余元素寻找排列\n",
    "            backtrack(start + 1)\n",
    "            # 回溯，恢复原始状态\n",
    "            nums[start], nums[i] = nums[i], nums[start]\n",
    "    result = []\n",
    "    backtrack()\n",
    "    return result"
   ]
  },
  {
   "cell_type": "markdown",
   "id": "a589caf4",
   "metadata": {},
   "source": [
    "2.递归算法是一种通过函数调用自身来解决问题的方法。它通常用于可以将问题分解为更小的、相似的子问题的情况，如树遍历、图搜索、分治算法等。递归算法的基本组成部分：基准情况（Base Case）：递归终止条件，防止无限递归。递归步骤（Recursive Step）：将问题分解为一个或多个较小的问题，并递归地解决这些子问题。"
   ]
  },
  {
   "cell_type": "code",
   "execution_count": 5,
   "id": "f72a71b2",
   "metadata": {},
   "outputs": [
    {
     "name": "stdout",
     "output_type": "stream",
     "text": [
      "120\n"
     ]
    }
   ],
   "source": [
    "\"\"\"def recursive_function(parameters):\n",
    "    # 基准情况：定义何时停止递归\n",
    "    if base_case_condition:\n",
    "        return base_case_value\n",
    "    # 递归步骤：将问题分解为较小的子问题\n",
    "    smaller_input = reduce_problem_size(parameters)\n",
    "    result = recursive_function(smaller_input)\n",
    "    # 合并结果（如果需要）\n",
    "    final_result = process_result(result, parameters)\n",
    "    return final_result\"\"\"\n",
    "def factorial(n):\n",
    "    # 基准情况：n为0或1时，阶乘为1\n",
    "    if n == 0 or n == 1:\n",
    "        return 1\n",
    "    # 递归步骤：n! = n * (n-1)!\n",
    "    return n * factorial(n - 1)\n",
    "print(factorial(5))  # 输出: 120"
   ]
  },
  {
   "cell_type": "markdown",
   "id": "aeb41afc",
   "metadata": {},
   "source": [
    "3.快速排序(Quick Sort)的平均时间复杂度$O(nlogn)$和最坏结果为$O(n^2)$，选择一个“基准”（pivot），将数组分为两部分：小于基准的放左边，大于的放右边，然后递归排序左右两部分。采用“分治法”（Divide and Conquer），选择一个基准元素（pivot），将数组划分为两部分：左边：所有元素 ≤ 基准，右边：所有元素 > 基准。然后递归地对左右两部分进行排序。"
   ]
  },
  {
   "cell_type": "code",
   "execution_count": 7,
   "id": "300b9c9a",
   "metadata": {},
   "outputs": [],
   "source": [
    "def quick_sort(arr):\n",
    "    if len(arr) <= 1:\n",
    "        return arr\n",
    "    pivot = arr[len(arr) // 2]  # 选中间元素为基准\n",
    "    left = [x for x in arr if x < pivot]\n",
    "    middle = [x for x in arr if x == pivot]\n",
    "    right = [x for x in arr if x > pivot]\n",
    "    return quick_sort(left) + middle + quick_sort(right)\n",
    "# 原地快排（更高效，节省空间）\n",
    "def quick_sort_inplace(arr, low, high):\n",
    "    if low < high:\n",
    "        pi = partition(arr, low, high)  # 分区操作\n",
    "        quick_sort_inplace(arr, low, pi - 1)\n",
    "        quick_sort_inplace(arr, pi + 1, high)\n",
    "def partition(arr, low, high):\n",
    "    pivot = arr[high]  # 选最后一个为基准\n",
    "    i = low - 1        # 较小元素的索引\n",
    "    for j in range(low, high):\n",
    "        if arr[j] <= pivot:\n",
    "            i += 1\n",
    "            arr[i], arr[j] = arr[j], arr[i]\n",
    "    arr[i + 1], arr[high] = arr[high], arr[i + 1]\n",
    "    return i + 1"
   ]
  }
 ],
 "metadata": {
  "kernelspec": {
   "display_name": "yolo",
   "language": "python",
   "name": "python3"
  },
  "language_info": {
   "codemirror_mode": {
    "name": "ipython",
    "version": 3
   },
   "file_extension": ".py",
   "mimetype": "text/x-python",
   "name": "python",
   "nbconvert_exporter": "python",
   "pygments_lexer": "ipython3",
   "version": "3.11.9"
  }
 },
 "nbformat": 4,
 "nbformat_minor": 5
}
