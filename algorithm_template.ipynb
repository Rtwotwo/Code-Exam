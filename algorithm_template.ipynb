{
 "cells": [
  {
   "cell_type": "markdown",
   "id": "3a40914f",
   "metadata": {},
   "source": [
    "1.回溯算法是一种通过递归来解决问题的算法，它尝试分步构建解决方案，并在发现当前路径无法达到目标时撤销最近的选择（即“回溯”），并尝试其他可能的选择。回溯算法常用于解决组合问题、排列问题、子集问题、搜索问题等。 回溯算法的步骤如下：(1).定义问题：首先，你需要定义问题的要求和限制。问题可以是一个组合问题、排列问题、子集问题、搜索问题等。(2).确定搜索空间：确定问题的搜索空间，即所有可能的选择。(3).定义递归关系：定义递归关系，即如何从当前状态转移到下一个状态。(4).确定终止条件：确定递归的终止条件，即当搜索空间 exhausted 时，算法结束。"
   ]
  },
  {
   "cell_type": "code",
   "execution_count": 4,
   "id": "91b49adb",
   "metadata": {},
   "outputs": [],
   "source": [
    "\"\"\"def backtrack(path, options):\n",
    "    # 结束条件：当满足某个条件时结束递归\n",
    "    if is_a_solution(path):\n",
    "        record_solution(path)\n",
    "        return\n",
    "    # 遍历所有可能的选择\n",
    "    for choice in options:\n",
    "        if is_valid(choice, path):  # 检查选择是否有效\n",
    "            select(choice, path)     # 做出选择\n",
    "            backtrack(path, new_options)  # 递归调用，继续探索\n",
    "            undo(choice, path)       # 撤销选择，进行回溯\"\"\"\n",
    "def permute(nums):\n",
    "    def backtrack(start=0):\n",
    "        # 如果到达数组末尾，说明找到了一种排列\n",
    "        if start == len(nums):\n",
    "            result.append(nums[:])\n",
    "            return\n",
    "        for i in range(start, len(nums)):\n",
    "            # 交换元素以尝试新的排列\n",
    "            nums[start], nums[i] = nums[i], nums[start]\n",
    "            # 递归地为剩余元素寻找排列\n",
    "            backtrack(start + 1)\n",
    "            # 回溯，恢复原始状态\n",
    "            nums[start], nums[i] = nums[i], nums[start]\n",
    "    result = []\n",
    "    backtrack()\n",
    "    return result"
   ]
  },
  {
   "cell_type": "markdown",
   "id": "a589caf4",
   "metadata": {},
   "source": [
    "2.递归算法是一种通过函数调用自身来解决问题的方法。它通常用于可以将问题分解为更小的、相似的子问题的情况，如树遍历、图搜索、分治算法等。递归算法的基本组成部分：基准情况（Base Case）：递归终止条件，防止无限递归。递归步骤（Recursive Step）：将问题分解为一个或多个较小的问题，并递归地解决这些子问题。"
   ]
  },
  {
   "cell_type": "code",
   "execution_count": 5,
   "id": "f72a71b2",
   "metadata": {},
   "outputs": [
    {
     "name": "stdout",
     "output_type": "stream",
     "text": [
      "120\n"
     ]
    }
   ],
   "source": [
    "\"\"\"def recursive_function(parameters):\n",
    "    # 基准情况：定义何时停止递归\n",
    "    if base_case_condition:\n",
    "        return base_case_value\n",
    "    # 递归步骤：将问题分解为较小的子问题\n",
    "    smaller_input = reduce_problem_size(parameters)\n",
    "    result = recursive_function(smaller_input)\n",
    "    # 合并结果（如果需要）\n",
    "    final_result = process_result(result, parameters)\n",
    "    return final_result\"\"\"\n",
    "def factorial(n):\n",
    "    # 基准情况：n为0或1时，阶乘为1\n",
    "    if n == 0 or n == 1:\n",
    "        return 1\n",
    "    # 递归步骤：n! = n * (n-1)!\n",
    "    return n * factorial(n - 1)\n",
    "print(factorial(5))  # 输出: 120"
   ]
  },
  {
   "cell_type": "markdown",
   "id": "aeb41afc",
   "metadata": {},
   "source": [
    "3.快速排序(Quick Sort)的平均时间复杂度$O(nlogn)$和最坏结果为$O(n^2)$，选择一个“基准”（pivot），将数组分为两部分：小于基准的放左边，大于的放右边，然后递归排序左右两部分。采用“分治法”（Divide and Conquer），选择一个基准元素（pivot），将数组划分为两部分：左边：所有元素 ≤ 基准，右边：所有元素 > 基准。然后递归地对左右两部分进行排序。"
   ]
  },
  {
   "cell_type": "code",
   "execution_count": 7,
   "id": "300b9c9a",
   "metadata": {},
   "outputs": [],
   "source": [
    "def quick_sort(arr):\n",
    "    if len(arr) <= 1:\n",
    "        return arr\n",
    "    pivot = arr[len(arr) // 2]  # 选中间元素为基准\n",
    "    left = [x for x in arr if x < pivot]\n",
    "    middle = [x for x in arr if x == pivot]\n",
    "    right = [x for x in arr if x > pivot]\n",
    "    return quick_sort(left) + middle + quick_sort(right)\n",
    "# 原地快排（更高效，节省空间）\n",
    "def quick_sort_inplace(arr, low, high):\n",
    "    if low < high:\n",
    "        pi = partition(arr, low, high)  # 分区操作\n",
    "        quick_sort_inplace(arr, low, pi - 1)\n",
    "        quick_sort_inplace(arr, pi + 1, high)\n",
    "def partition(arr, low, high):\n",
    "    pivot = arr[high]  # 选最后一个为基准\n",
    "    i = low - 1        # 较小元素的索引\n",
    "    for j in range(low, high):\n",
    "        if arr[j] <= pivot:\n",
    "            i += 1\n",
    "            arr[i], arr[j] = arr[j], arr[i]\n",
    "    arr[i + 1], arr[high] = arr[high], arr[i + 1]\n",
    "    return i + 1"
   ]
  },
  {
   "cell_type": "markdown",
   "id": "8414b93c",
   "metadata": {},
   "source": [
    "4.归并排序：最坏和平均都是$O(nlogn)$。分治法，将数组从中间分成两半，递归排序左右两部分，然后合并两个有序数组。将数组不断二分，直到每个子数组只有一个元素，然后合并这些有序子数组，最终得到整体有序。a.分解：将数组从中间分成两个子数组：左半部分和右半部分。递归地对左、右子数组进行归并排序，直到子数组长度为1。b.合并：创建一个临时数组用于存放合并结果。使用两个指针分别指向左右子数组的起始位置。比较两个指针所指元素，将较小者放入结果数组，并移动对应指针。若某一子数组遍历完，将另一子数组剩余元素全部复制到结果中。返回合并后的有序数组。"
   ]
  },
  {
   "cell_type": "code",
   "execution_count": 8,
   "id": "977d7a37",
   "metadata": {},
   "outputs": [],
   "source": [
    "def merge_sort(arr):\n",
    "    if len(arr) <= 1:\n",
    "        return arr\n",
    "    mid = len(arr) // 2\n",
    "    left = merge_sort(arr[:mid])\n",
    "    right = merge_sort(arr[mid:])\n",
    "    return merge(left, right)\n",
    "def merge(left, right):\n",
    "    result = []\n",
    "    i = j = 0\n",
    "    while i < len(left) and j < len(right):\n",
    "        if left[i] <= right[j]:\n",
    "            result.append(left[i])\n",
    "            i += 1\n",
    "        else:\n",
    "            result.append(right[j])\n",
    "            j += 1\n",
    "    # 添加剩余元素\n",
    "    result.extend(left[i:])\n",
    "    result.extend(right[j:])\n",
    "    return result"
   ]
  },
  {
   "cell_type": "markdown",
   "id": "8f28de3e",
   "metadata": {},
   "source": [
    "5.堆排序：时间复杂度最坏是$O(nlogn)$。算法思想：利用最大堆（或最小堆）的性质，不断将堆顶（最大值）与末尾交换，然后调整堆。实现步骤：a.构建最大堆：从最后一个非叶子节点开始，向前遍历每个节点。对每个节点执行“堆化”（Heapify）操作，确保其子树满足最大堆性质（父节点 $≥$ 子节点）。b.排序过程：将堆顶（最大值）与堆的最后一个元素交换。堆的大小减 1（即排除已排序的最大值）。对新的堆顶执行 heapify，恢复最 大堆性质。重复此过程，直到堆中只剩一个元素。c.完成排序：所有元素按从小到大顺序排列在原数组中。"
   ]
  },
  {
   "cell_type": "code",
   "execution_count": 10,
   "id": "726fa6f8",
   "metadata": {},
   "outputs": [],
   "source": [
    "from typing import List\n",
    "def heap_sort(arr):\n",
    "    def heapify(arr, n, i):\n",
    "        largest = i\n",
    "        left = 2 * i + 1\n",
    "        right = 2 * i + 2\n",
    "        if left < n and arr[left] > arr[largest]:\n",
    "            largest = left\n",
    "        if right < n and arr[right] > arr[largest]:\n",
    "            largest = right\n",
    "        if largest != i:\n",
    "            arr[i], arr[largest] = arr[largest], arr[i]\n",
    "            heapify(arr, n, largest)  # 继续调整子树\n",
    "    n = len(arr)\n",
    "    # 构建最大堆（从最后一个非叶子节点开始）\n",
    "    for i in range(n // 2 - 1, -1, -1):\n",
    "        heapify(arr, n, i)\n",
    "    # 逐个提取元素\n",
    "    for i in range(n - 1, 0, -1):\n",
    "        arr[0], arr[i] = arr[i], arr[0]  # 将最大值移到末尾\n",
    "        heapify(arr, i, 0)  # 调整剩余堆"
   ]
  },
  {
   "cell_type": "markdown",
   "id": "f722f803",
   "metadata": {},
   "source": [
    "6.希尔排序：是一种基于插入排序的改进算法，其核心思想是通过引入“增量序列”来对数组进行多轮预排序，从而减少直接插入排序中的元素移动次数，提高整体排序效率。算法原理是将原始数组按照一定的间隔（增量）划分为若干个子序列，对每个子序列分别进行插入排序；然后逐步缩小间隔，重复这一过程，直到间隔为1时完成最后一次插入排序。由于前期的预排序使得数组逐渐趋于有序，因此最后一轮的直接插入排序效率大大提高。实现步骤如下：首先选择一个递减的增量序列（如常用的希尔增量序列h=h×3+1，从较大值开始逐步缩小），然后对于每个增量值h，将数组分为 h 个子序列（即所有下标模h 同余的元素构成一个子序列），对每个子序列执行插入排序；随着增量不断减小，子序列的长度逐渐增加，而元素的有序性也逐步增强，最终当h=1 时，整个数组进行一次插入排序即可完成排序。希尔排序的时间复杂度依赖于所选的增量序列，在使用希尔增量的情况下平均时间复杂度约为$O(n^{1.3})$ 到 $O(n^{1.5})$，最坏情况下为 $O(n^2)$，但实际性能通常优于简单插入排序，尤其对于中等规模的数据集效果显著。"
   ]
  },
  {
   "cell_type": "code",
   "execution_count": 11,
   "id": "47de9b32",
   "metadata": {},
   "outputs": [
    {
     "name": "stdout",
     "output_type": "stream",
     "text": [
      "排序前: [64, 34, 25, 12, 22, 11, 90]\n",
      "排序后: [11, 12, 22, 25, 34, 64, 90]\n"
     ]
    }
   ],
   "source": [
    "def shell_sort(arr):\n",
    "    n = len(arr)\n",
    "    h = 1\n",
    "    # 初始化希尔增量序列：1, 4, 13, 40, 121\n",
    "    while h < n // 3:\n",
    "        h = h * 3 + 1\n",
    "    # 按增量序列递减进行排序\n",
    "    while h >= 1:\n",
    "        # 对每个子序列进行插入排序\n",
    "        for i in range(h, n):\n",
    "            temp = arr[i]\n",
    "            j = i\n",
    "            # 在子序列中向前查找插入位置\n",
    "            while j >= h and arr[j - h] > temp:\n",
    "                arr[j] = arr[j - h]\n",
    "                j -= h\n",
    "            arr[j] = temp\n",
    "        h //= 3  # 缩小增量\n",
    "    return arr\n",
    "if __name__ == \"__main__\":\n",
    "    data = [64, 34, 25, 12, 22, 11, 90]\n",
    "    print(\"排序前:\", data)\n",
    "    shell_sort(data)\n",
    "    print(\"排序后:\", data)"
   ]
  }
 ],
 "metadata": {
  "kernelspec": {
   "display_name": "yolo",
   "language": "python",
   "name": "python3"
  },
  "language_info": {
   "codemirror_mode": {
    "name": "ipython",
    "version": 3
   },
   "file_extension": ".py",
   "mimetype": "text/x-python",
   "name": "python",
   "nbconvert_exporter": "python",
   "pygments_lexer": "ipython3",
   "version": "3.11.9"
  }
 },
 "nbformat": 4,
 "nbformat_minor": 5
}
