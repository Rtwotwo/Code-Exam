{
 "cells": [
  {
   "cell_type": "markdown",
   "id": "3a40914f",
   "metadata": {},
   "source": [
    "1.回溯算法是一种通过递归来解决问题的算法，它尝试分步构建解决方案，并在发现当前路径无法达到目标时撤销最近的选择（即“回溯”），并尝试其他可能的选择。回溯算法常用于解决组合问题、排列问题、子集问题、搜索问题等。"
   ]
  },
  {
   "cell_type": "code",
   "execution_count": null,
   "id": "c0e6e022",
   "metadata": {
    "vscode": {
     "languageId": "plaintext"
    }
   },
   "outputs": [],
   "source": [
    "def backtrack(path, options):\n",
    "    # 结束条件：当满足某个条件时结束递归\n",
    "    if is_a_solution(path):\n",
    "        record_solution(path)\n",
    "        return\n",
    "    \n",
    "    # 遍历所有可能的选择\n",
    "    for choice in options:\n",
    "        if is_valid(choice, path):  # 检查选择是否有效\n",
    "            select(choice, path)     # 做出选择\n",
    "            backtrack(path, new_options)  # 递归调用，继续探索\n",
    "            undo(choice, path)       # 撤销选择，进行回溯"
   ]
  }
 ],
 "metadata": {
  "language_info": {
   "name": "python"
  }
 },
 "nbformat": 4,
 "nbformat_minor": 5
}
